{
 "cells": [
  {
   "cell_type": "code",
   "execution_count": 1,
   "id": "c85702f5",
   "metadata": {},
   "outputs": [],
   "source": [
    "import numpy as np\n",
    "import pandas as pd"
   ]
  },
  {
   "cell_type": "code",
   "execution_count": 44,
   "id": "10229db1",
   "metadata": {},
   "outputs": [
    {
     "name": "stdout",
     "output_type": "stream",
     "text": [
      "Index(['中國_CPI', '中國_Core CPI', '中國_GDP成長率', '中國_NMI', '中國_PMI', '中國_利率',\n",
      "       '日本_CPI', '日本_Core CPI', '日本_GDP成長率', '日本_NMI', '日本_PMI', '日本_利率',\n",
      "       '歐元區_CPI', '歐元區_Core CPI', '歐元區_GDP成長率', '歐元區_NMI', '歐元區_PMI', '歐元區_利率',\n",
      "       '美國_CPI', '美國_Core CPI', '美國_GDP成長率', '美國_NMI', '美國_PMI', '美國_利率',\n",
      "       '臺灣實質數據_連鎖實質值民間固定資本形成:1--4合計', '臺灣實質數據_連鎖實質值民間1.營建工程',\n",
      "       '臺灣實質數據_連鎖實質值民間2.運輸工具', '臺灣實質數據_連鎖實質值民間3.機器及設備', '臺灣實質數據_連鎖實質值民間4.智慧財產',\n",
      "       '臺灣實質數據_連鎖實質值民間消費合計', '臺灣實質數據_連鎖實質值GDP', '貢獻率_貢獻度國內需求-小計',\n",
      "       '貢獻率_貢獻度國內需求-民間消費', '貢獻率_貢獻度國內需求-政府消費', '貢獻率_貢獻度國內需求-固定資本形成毛額',\n",
      "       '貢獻率_貢獻度國內需求-固定資本形成毛額-民間', '貢獻率_貢獻度國內需求-固定資本形成毛額-公營',\n",
      "       '貢獻率_貢獻度國內需求-固定資本形成毛額-政府', '貢獻率_貢獻度國內需求-存貨變動', '貢獻率_貢獻度國外淨需求-小計',\n",
      "       '貢獻率_貢獻度國外淨需求-商品及服務輸出', '貢獻率_貢獻度國外淨需求-減：商品及服務輸入',\n",
      "       '臺灣實質數據_連鎖實質值按國人境內外消費分：國人在國內消費', '臺灣實質數據_連鎖實質值按國人境內外消費分：國人在國外消費',\n",
      "       '製造業營運狀況製造業營運狀況_營業額 (千元)_製造業', '製造業營運狀況製造業營運狀況_房屋營建工程 (千元)_製造業',\n",
      "       '製造業營運狀況製造業營運狀況_交通運輸設備 (千元)_製造業', '製造業營運狀況製造業營運狀況_機械雜項設備 (千元)_製造業'],\n",
      "      dtype='object')\n"
     ]
    }
   ],
   "source": [
    "tw_datam = pd.read_excel(r'C:\\Users\\s7108/Dropbox/RA/Janice/經濟預測/data/簡報數據Dec4.xlsx', sheet_name = '彙整月')\n",
    "tw_datam.index = pd.to_datetime(tw_datam['Unnamed: 0'])\n",
    "tw_datam.drop(columns='Unnamed: 0',inplace=True)\n",
    "tw_dataq = pd.read_excel(r'C:\\Users\\s7108/Dropbox/RA/Janice/經濟預測/data/簡報數據Dec4.xlsx', sheet_name = '彙整季', header=[0,1])\n",
    "tw_dataq = tw_dataq.iloc[1:,:]\n",
    "tw_dataq.index = pd.to_datetime(tw_dataq[('Unnamed: 0_level_0','Indicator')])\n",
    "tw_dataq = tw_dataq.iloc[:,1:]\n",
    "\n",
    "\n",
    "\n",
    "tw_dataq_colori = tw_dataq.columns.tolist()\n",
    "tw_dataq_colmix = ['{}_{}'.format(col[0], col[1]) for col in tw_dataq_colori]  # 將雙層columns name降為一層\n",
    "tw_dataq.columns = tw_dataq_colmix\n",
    "print(tw_dataq.columns)\n",
    "#tw_dataq.loc[:, '貢獻率_國外淨需求-減：商品及服務輸入'] = tw_dataq.loc[:, '貢獻率_國外淨需求-減：商品及服務輸入'] * -1#貢獻率_貢獻度國外淨需求-減：商品及服務輸入\n",
    "tw_dataq.loc[:, '貢獻率_貢獻度國外淨需求-減：商品及服務輸入'] = tw_dataq.loc[:,\n",
    "                                                              '貢獻率_貢獻度國外淨需求-減：商品及服務輸入'] * -1#貢獻率_貢獻度國外淨需求-減：商品及服務輸入"
   ]
  },
  {
   "cell_type": "code",
   "execution_count": 45,
   "id": "c9c1d7c6",
   "metadata": {},
   "outputs": [],
   "source": [
    "(name1,name2,name3,data_type1,data_type2,data_type3)=('事業單位家數－月底_住宿及餐飲業',\n",
    "                                                      '事業單位家數－月底_住宿及餐飲業',\n",
    "                                                      '事業單位家數－月底_住宿及餐飲業',\n",
    "                                                      'level','yoy','level')"
   ]
  },
  {
   "cell_type": "code",
   "execution_count": 46,
   "id": "7d79d33a",
   "metadata": {},
   "outputs": [
    {
     "name": "stdout",
     "output_type": "stream",
     "text": [
      "['事業單位家數－月底_住宿及餐飲業', 'level', '事業單位家數－月底_住宿及餐飲業', 'yoy', '(不選擇)', 'level', '事業單位家數－月底_住宿及餐飲業', 'level', None, 'level']\n"
     ]
    }
   ],
   "source": [
    "my_list = [name1,data_type1,name2,data_type2,'(不選擇)','level',name3,data_type3, None,'level']\n",
    "print(my_list)"
   ]
  },
  {
   "cell_type": "code",
   "execution_count": 47,
   "id": "295886f2",
   "metadata": {},
   "outputs": [
    {
     "name": "stdout",
     "output_type": "stream",
     "text": [
      "['事業單位家數－月底_住宿及餐飲業', 'level', '事業單位家數－月底_住宿及餐飲業', 'yoy', '(不選擇)', 'level', '事業單位家數－月底_住宿及餐飲業', 'level', None, 'level']\n",
      "None 和 '(不選擇)' 在列表中的位置: [4, 8]\n"
     ]
    }
   ],
   "source": [
    "print(my_list)\n",
    "# 找出所有 None 與 '(不選擇)' 的位置\n",
    "indices_nan = [i for i, x in enumerate(my_list) if x is None or x == '(不選擇)']\n",
    "print(f\"None 和 '(不選擇)' 在列表中的位置: {indices_nan}\")"
   ]
  },
  {
   "cell_type": "code",
   "execution_count": 48,
   "id": "f9f110fc",
   "metadata": {},
   "outputs": [
    {
     "name": "stdout",
     "output_type": "stream",
     "text": [
      "[4, 8, 5, 9]\n"
     ]
    }
   ],
   "source": [
    "original_list = indices_nan\n",
    "\n",
    "# 新增每個元素加上3的結果\n",
    "indices_to_remove = [x for x in original_list] + [x + 1 for x in original_list]\n",
    "\n",
    "print(indices_to_remove)"
   ]
  },
  {
   "cell_type": "code",
   "execution_count": 60,
   "id": "d00f69c5",
   "metadata": {},
   "outputs": [
    {
     "name": "stdout",
     "output_type": "stream",
     "text": [
      "['事業單位家數－月底_住宿及餐飲業', 'level', '事業單位家數－月底_住宿及餐飲業', 'yoy', '事業單位家數－月底_住宿及餐飲業', 'level']\n"
     ]
    }
   ],
   "source": [
    "# 刪除指定位置的元素\n",
    "new_list = [x for i, x in enumerate(my_list) if i not in indices_to_remove]\n",
    "\n",
    "print(new_list)"
   ]
  },
  {
   "cell_type": "code",
   "execution_count": 67,
   "id": "f358b45b",
   "metadata": {},
   "outputs": [
    {
     "name": "stdout",
     "output_type": "stream",
     "text": [
      "[('事業單位家數－月底_住宿及餐飲業', 'level'), ('事業單位家數－月底_住宿及餐飲業', 'yoy')]\n"
     ]
    }
   ],
   "source": [
    "# 解決重複值\n",
    "\n",
    "# 將列表按順序兩兩一組\n",
    "pairs = [(new_list[i], new_list[i + 1]) for i in range(0, len(new_list), 2)]\n",
    "\n",
    "# 排除掉重複的組\n",
    "unique_list = list(set(pairs))\n",
    "\n",
    "print(unique_list)"
   ]
  },
  {
   "cell_type": "code",
   "execution_count": 68,
   "id": "2dbdbeeb",
   "metadata": {},
   "outputs": [],
   "source": [
    "\n",
    "title = '月資料'\n",
    "if title == '月資料' :\n",
    "    d_shift = 12\n",
    "    d_freq ='MS'\n",
    "\n",
    "else:\n",
    "    d_shift = 4\n",
    "    d_freq ='3MS'\n",
    "    \n",
    "data0 = tw_datam.dropna(how='all')\n",
    "# 所以生成連續的日期範圍，確保沒有遺漏時間，頭尾也不會有nan(上一行刪除)\n",
    "date_range = pd.date_range(start=data1.index.min(), end=data1.index.max(), freq=d_freq)\n",
    "data1 = data1.reindex(date_range)  # 重新索引DataFrame\n",
    "\n",
    "for i in range(len(unique_list)):#要先解決，不然遇到同樣的欄位名稱後面才yoy會出錯\n",
    "    if item[1] == 'yoy':\n",
    "        data0[f'{item[0]}_YoY'] = data0[item[0]] / data0[item[0]].shift(d_shift) - 1\n",
    "        # item[0] = item[0]+'_YoY' 會出錯所以，創建一個包含修改過的 item 的新元組，然後替換掉列表中的舊元組\n",
    "        unique_list[i] = (item[0]+'_YoY', item[1])\n",
    "    else:\n",
    "        pass"
   ]
  },
  {
   "cell_type": "code",
   "execution_count": 69,
   "id": "4a91a9ac",
   "metadata": {},
   "outputs": [
    {
     "data": {
      "text/plain": [
       "[('事業單位家數－月底_住宿及餐飲業_YoY', 'yoy'), ('事業單位家數－月底_住宿及餐飲業_YoY', 'yoy')]"
      ]
     },
     "execution_count": 69,
     "metadata": {},
     "output_type": "execute_result"
    }
   ],
   "source": [
    "unique_list"
   ]
  },
  {
   "cell_type": "code",
   "execution_count": null,
   "id": "bc93d704",
   "metadata": {},
   "outputs": [],
   "source": []
  },
  {
   "cell_type": "code",
   "execution_count": null,
   "id": "1af6ac52",
   "metadata": {},
   "outputs": [],
   "source": [
    "data0 = tw_datam\n",
    "\n",
    "for i in range(len([('事業單位家數－月底_住宿及餐飲業', 'level'), ('事業單位家數－月底_住宿及餐飲業', 'yoy')])):\n",
    "    item = [('事業單位家數－月底_住宿及餐飲業', 'level'), ('事業單位家數－月底_住宿及餐飲業', 'yoy')][i]\n",
    "\n",
    "    if item[1] == 'yoy':\n",
    "        data0[f'{item[0]}_YoY'] = data0[item[0]] / data0[item[0]].shift(d_shift) - 1\n",
    "        # 創建一個包含修改過的 item 的新元組，然後替換掉列表中的舊元組\n",
    "        [('事業單位家數－月底_住宿及餐飲業', 'level'), ('事業單位家數－月底_住宿及餐飲業', 'yoy')][i] = (item[0]+'_YoY', item[1])\n",
    "    else:\n",
    "        pass"
   ]
  },
  {
   "cell_type": "code",
   "execution_count": null,
   "id": "d2a6941c",
   "metadata": {},
   "outputs": [],
   "source": []
  },
  {
   "cell_type": "code",
   "execution_count": 56,
   "id": "d3637f71",
   "metadata": {},
   "outputs": [],
   "source": [
    "name1 = unique_list[0][0]\n",
    "data_type1 = unique_list[0][1]\n",
    "name2 = unique_list[1][0]\n",
    "data_type2 = unique_list[1][1]"
   ]
  },
  {
   "cell_type": "code",
   "execution_count": 57,
   "id": "2b249e83",
   "metadata": {},
   "outputs": [],
   "source": [
    "data1 = pd.concat([data0[name1], data0[name2]], axis=1).dropna(how='all')\n",
    "\n"
   ]
  },
  {
   "cell_type": "code",
   "execution_count": 58,
   "id": "6f05cde0",
   "metadata": {},
   "outputs": [
    {
     "data": {
      "text/html": [
       "<div>\n",
       "<style scoped>\n",
       "    .dataframe tbody tr th:only-of-type {\n",
       "        vertical-align: middle;\n",
       "    }\n",
       "\n",
       "    .dataframe tbody tr th {\n",
       "        vertical-align: top;\n",
       "    }\n",
       "\n",
       "    .dataframe thead th {\n",
       "        text-align: right;\n",
       "    }\n",
       "</style>\n",
       "<table border=\"1\" class=\"dataframe\">\n",
       "  <thead>\n",
       "    <tr style=\"text-align: right;\">\n",
       "      <th></th>\n",
       "      <th>事業單位家數－月底_住宿及餐飲業_YoY</th>\n",
       "      <th>事業單位家數－月底_住宿及餐飲業_YoY</th>\n",
       "    </tr>\n",
       "    <tr>\n",
       "      <th>Unnamed: 0</th>\n",
       "      <th></th>\n",
       "      <th></th>\n",
       "    </tr>\n",
       "  </thead>\n",
       "  <tbody>\n",
       "    <tr>\n",
       "      <th>2021-03-01</th>\n",
       "      <td>-0.839506</td>\n",
       "      <td>-0.839506</td>\n",
       "    </tr>\n",
       "    <tr>\n",
       "      <th>2021-04-01</th>\n",
       "      <td>-0.916667</td>\n",
       "      <td>-0.916667</td>\n",
       "    </tr>\n",
       "    <tr>\n",
       "      <th>2021-05-01</th>\n",
       "      <td>-0.839506</td>\n",
       "      <td>-0.839506</td>\n",
       "    </tr>\n",
       "    <tr>\n",
       "      <th>2021-06-01</th>\n",
       "      <td>0.907143</td>\n",
       "      <td>0.907143</td>\n",
       "    </tr>\n",
       "    <tr>\n",
       "      <th>2021-07-01</th>\n",
       "      <td>21.826923</td>\n",
       "      <td>21.826923</td>\n",
       "    </tr>\n",
       "    <tr>\n",
       "      <th>2021-08-01</th>\n",
       "      <td>26.317073</td>\n",
       "      <td>26.317073</td>\n",
       "    </tr>\n",
       "    <tr>\n",
       "      <th>2021-09-01</th>\n",
       "      <td>17.736842</td>\n",
       "      <td>17.736842</td>\n",
       "    </tr>\n",
       "    <tr>\n",
       "      <th>2021-10-01</th>\n",
       "      <td>30.937500</td>\n",
       "      <td>30.937500</td>\n",
       "    </tr>\n",
       "    <tr>\n",
       "      <th>2021-11-01</th>\n",
       "      <td>27.461538</td>\n",
       "      <td>27.461538</td>\n",
       "    </tr>\n",
       "    <tr>\n",
       "      <th>2021-12-01</th>\n",
       "      <td>17.166667</td>\n",
       "      <td>17.166667</td>\n",
       "    </tr>\n",
       "    <tr>\n",
       "      <th>2022-02-01</th>\n",
       "      <td>13.416667</td>\n",
       "      <td>13.416667</td>\n",
       "    </tr>\n",
       "    <tr>\n",
       "      <th>2022-03-01</th>\n",
       "      <td>12.461538</td>\n",
       "      <td>12.461538</td>\n",
       "    </tr>\n",
       "    <tr>\n",
       "      <th>2022-04-01</th>\n",
       "      <td>10.357143</td>\n",
       "      <td>10.357143</td>\n",
       "    </tr>\n",
       "    <tr>\n",
       "      <th>2022-05-01</th>\n",
       "      <td>8.346154</td>\n",
       "      <td>8.346154</td>\n",
       "    </tr>\n",
       "    <tr>\n",
       "      <th>2022-06-01</th>\n",
       "      <td>0.617978</td>\n",
       "      <td>0.617978</td>\n",
       "    </tr>\n",
       "    <tr>\n",
       "      <th>2022-07-01</th>\n",
       "      <td>-0.650379</td>\n",
       "      <td>-0.650379</td>\n",
       "    </tr>\n",
       "    <tr>\n",
       "      <th>2022-08-01</th>\n",
       "      <td>-0.709821</td>\n",
       "      <td>-0.709821</td>\n",
       "    </tr>\n",
       "    <tr>\n",
       "      <th>2022-09-01</th>\n",
       "      <td>-0.719101</td>\n",
       "      <td>-0.719101</td>\n",
       "    </tr>\n",
       "    <tr>\n",
       "      <th>2022-10-01</th>\n",
       "      <td>-0.634051</td>\n",
       "      <td>-0.634051</td>\n",
       "    </tr>\n",
       "    <tr>\n",
       "      <th>2022-11-01</th>\n",
       "      <td>-0.540541</td>\n",
       "      <td>-0.540541</td>\n",
       "    </tr>\n",
       "    <tr>\n",
       "      <th>2022-12-01</th>\n",
       "      <td>-0.266055</td>\n",
       "      <td>-0.266055</td>\n",
       "    </tr>\n",
       "    <tr>\n",
       "      <th>2023-02-01</th>\n",
       "      <td>-0.265896</td>\n",
       "      <td>-0.265896</td>\n",
       "    </tr>\n",
       "    <tr>\n",
       "      <th>2023-03-01</th>\n",
       "      <td>-0.245714</td>\n",
       "      <td>-0.245714</td>\n",
       "    </tr>\n",
       "    <tr>\n",
       "      <th>2023-04-01</th>\n",
       "      <td>-0.201258</td>\n",
       "      <td>-0.201258</td>\n",
       "    </tr>\n",
       "    <tr>\n",
       "      <th>2023-05-01</th>\n",
       "      <td>-0.506173</td>\n",
       "      <td>-0.506173</td>\n",
       "    </tr>\n",
       "    <tr>\n",
       "      <th>2023-06-01</th>\n",
       "      <td>-0.773148</td>\n",
       "      <td>-0.773148</td>\n",
       "    </tr>\n",
       "    <tr>\n",
       "      <th>2023-07-01</th>\n",
       "      <td>-0.934940</td>\n",
       "      <td>-0.934940</td>\n",
       "    </tr>\n",
       "    <tr>\n",
       "      <th>2023-08-01</th>\n",
       "      <td>-0.935385</td>\n",
       "      <td>-0.935385</td>\n",
       "    </tr>\n",
       "    <tr>\n",
       "      <th>2023-09-01</th>\n",
       "      <td>-0.945000</td>\n",
       "      <td>-0.945000</td>\n",
       "    </tr>\n",
       "    <tr>\n",
       "      <th>2023-10-01</th>\n",
       "      <td>-0.978610</td>\n",
       "      <td>-0.978610</td>\n",
       "    </tr>\n",
       "    <tr>\n",
       "      <th>2023-11-01</th>\n",
       "      <td>-0.982353</td>\n",
       "      <td>-0.982353</td>\n",
       "    </tr>\n",
       "  </tbody>\n",
       "</table>\n",
       "</div>"
      ],
      "text/plain": [
       "            事業單位家數－月底_住宿及餐飲業_YoY  事業單位家數－月底_住宿及餐飲業_YoY\n",
       "Unnamed: 0                                            \n",
       "2021-03-01             -0.839506             -0.839506\n",
       "2021-04-01             -0.916667             -0.916667\n",
       "2021-05-01             -0.839506             -0.839506\n",
       "2021-06-01              0.907143              0.907143\n",
       "2021-07-01             21.826923             21.826923\n",
       "2021-08-01             26.317073             26.317073\n",
       "2021-09-01             17.736842             17.736842\n",
       "2021-10-01             30.937500             30.937500\n",
       "2021-11-01             27.461538             27.461538\n",
       "2021-12-01             17.166667             17.166667\n",
       "2022-02-01             13.416667             13.416667\n",
       "2022-03-01             12.461538             12.461538\n",
       "2022-04-01             10.357143             10.357143\n",
       "2022-05-01              8.346154              8.346154\n",
       "2022-06-01              0.617978              0.617978\n",
       "2022-07-01             -0.650379             -0.650379\n",
       "2022-08-01             -0.709821             -0.709821\n",
       "2022-09-01             -0.719101             -0.719101\n",
       "2022-10-01             -0.634051             -0.634051\n",
       "2022-11-01             -0.540541             -0.540541\n",
       "2022-12-01             -0.266055             -0.266055\n",
       "2023-02-01             -0.265896             -0.265896\n",
       "2023-03-01             -0.245714             -0.245714\n",
       "2023-04-01             -0.201258             -0.201258\n",
       "2023-05-01             -0.506173             -0.506173\n",
       "2023-06-01             -0.773148             -0.773148\n",
       "2023-07-01             -0.934940             -0.934940\n",
       "2023-08-01             -0.935385             -0.935385\n",
       "2023-09-01             -0.945000             -0.945000\n",
       "2023-10-01             -0.978610             -0.978610\n",
       "2023-11-01             -0.982353             -0.982353"
      ]
     },
     "execution_count": 58,
     "metadata": {},
     "output_type": "execute_result"
    }
   ],
   "source": [
    "data1"
   ]
  },
  {
   "cell_type": "code",
   "execution_count": null,
   "id": "f4a52d6e",
   "metadata": {},
   "outputs": [],
   "source": []
  },
  {
   "cell_type": "markdown",
   "id": "ae0fde36",
   "metadata": {},
   "source": [
    "## [ pct_change ]\n",
    "\n",
    "https://pandas.pydata.org/docs/reference/api/pandas.DataFrame.pct_change.html\n",
    "\n",
    "- fill_method {'backfill', 'bfill', 'pad', 'ffill', None}, 預設 'pad'\n",
    "如何在計算百分比變化之前處理 NA\n",
    "> 自版本 2.1 起已棄用：fill_method的所有選項均已棄用，除了fill_method=None。\n",
    "-  limit int，預設無，停止前要填充的連續 NA 的數量\n",
    "> 自 2.1 版本起已棄用。\n",
    "- freq DateOffset、timedelta 或 str，可選從時間序列 API 使用的增量（例如“M”或 BDay()）。"
   ]
  },
  {
   "cell_type": "code",
   "execution_count": null,
   "id": "fc0197f5",
   "metadata": {},
   "outputs": [],
   "source": []
  },
  {
   "cell_type": "code",
   "execution_count": null,
   "id": "32be9831",
   "metadata": {},
   "outputs": [],
   "source": []
  },
  {
   "cell_type": "code",
   "execution_count": null,
   "id": "151e2695",
   "metadata": {},
   "outputs": [],
   "source": []
  }
 ],
 "metadata": {
  "kernelspec": {
   "display_name": "Python 3 (ipykernel)",
   "language": "python",
   "name": "python3"
  },
  "language_info": {
   "codemirror_mode": {
    "name": "ipython",
    "version": 3
   },
   "file_extension": ".py",
   "mimetype": "text/x-python",
   "name": "python",
   "nbconvert_exporter": "python",
   "pygments_lexer": "ipython3",
   "version": "3.10.9"
  }
 },
 "nbformat": 4,
 "nbformat_minor": 5
}
